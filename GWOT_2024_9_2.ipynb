{
 "cells": [
  {
   "cell_type": "markdown",
   "metadata": {},
   "source": [
    "# Local settings"
   ]
  },
  {
   "cell_type": "code",
   "execution_count": null,
   "metadata": {},
   "outputs": [],
   "source": [
    "data_dir = 'raw_data/kana_colourpreferencequalia-master/data'\n",
    "\n",
    "# Specify the data column to focus on throughout by default\n",
    "data_column = 'responseTime'\n",
    "\n",
    "# Specify which type of responses to filter for\n",
    "response_type = 'similarity'"
   ]
  },
  {
   "cell_type": "markdown",
   "metadata": {},
   "source": [
    "# Import Packages"
   ]
  },
  {
   "cell_type": "code",
   "execution_count": null,
   "metadata": {},
   "outputs": [],
   "source": [
    "import os\n",
    "import pickle as pkl\n",
    "import sys\n",
    "sys.path.append('/Users/kana/Library/Mobile Documents/com~apple~CloudDocs/Codes/GWOT_colorprefrencequalia')\n",
    "import numpy as np\n",
    "import pandas as pd\n",
    "import sklearn\n",
    "import csv\n",
    "from scipy.stats import pearsonr, spearmanr\n",
    "import matplotlib.pyplot as plt\n",
    "from matplotlib.patches import Rectangle\n",
    "from mpl_toolkits.mplot3d import Axes3D\n",
    "from sklearn.manifold import MDS\n",
    "import seaborn as sns\n",
    "import ot\n",
    "import plotly.graph_objs as go\n",
    "import plotly.express as px\n",
    "from mpl_toolkits.axes_grid1 import make_axes_locatable\n",
    "\n",
    "# Our own utility functions\n",
    "import utilityFunctions"
   ]
  },
  {
   "cell_type": "markdown",
   "metadata": {},
   "source": [
    "# Define variables/functions (used across the code)"
   ]
  },
  {
   "cell_type": "code",
   "execution_count": null,
   "metadata": {},
   "outputs": [],
   "source": [
    "# Define unique colors\n",
    "# TODO - remove after confirming that it is no longer needed (replaced by function)\n",
    "unique_colours = np.array(['#d2b700', '#db8b08', '#c7512c', '#c13547', '#a03663', '#753a7a', '#4b488e', '#005692', '#006a8b', '#007b75', '#008a52', '#9aa400'])\n",
    "colour_index = {colour: idx for idx, colour in enumerate(unique_colours)}\n",
    "matrix_size = len(unique_colours)\n",
    "\n",
    "# Provides dictionary of colours, with an assigned id for each colour\n",
    "# OUTPUTS:\n",
    "#   colour_index: dictionary, {colour_string : colour_id}\n",
    "def getUniqueColours():\n",
    "    unique_colours = np.array(['#d2b700', '#db8b08', '#c7512c', '#c13547', '#a03663', '#753a7a', '#4b488e', '#005692', '#006a8b', '#007b75', '#008a52', '#9aa400'])\n",
    "    colour_index = {colour: idx for idx, colour in enumerate(unique_colours)}\n",
    "    return colour_index\n",
    "\n",
    "### configuration\n",
    "n_eps = 15 # number of epsilon values tried\n",
    "eps_range = [0.04, 5] # the range of epsilon searched\n",
    "epsilons = np.logspace(np.log10(eps_range[0]), np.log10(eps_range[1]), n_eps) # epsilon values"
   ]
  },
  {
   "cell_type": "markdown",
   "metadata": {},
   "source": [
    "# Function(s) for loading and formatting data"
   ]
  },
  {
   "cell_type": "code",
   "execution_count": null,
   "metadata": {},
   "outputs": [],
   "source": [
    "# Function for getting data\n",
    "\n",
    "# Extract data from datafiles in provided directory\n",
    "#   Data is extracted in the colour x colour matrix form\n",
    "# INPUTS:\n",
    "#   data_dir: string, directory holding csv data files\n",
    "#   target_data: string, target column name in data files which has the data you want to get\n",
    "#   response_type: string, select data for 'similarity' or 'preference'\n",
    "# OUTPUTS:\n",
    "#   pMatrices:\n",
    "#   pIds:\n",
    "#   pFiles:\n",
    "# TODO add parameter which allows for filtering of data based on specified column-value pairs\n",
    "def getDataColourMatrix(data_dir, target_data, response_type):\n",
    "\n",
    "    pFiles = [] # stores source datafile for each participant, pFiles[pID] gives the file for participant pID\n",
    "    pMatrices = [] # stores data matrix for each participant\n",
    "\n",
    "    pCounter = 0 \n",
    "    for filename in sorted(os.listdir(data_dir), reverse=False):\n",
    "        if filename.endswith(\".csv\"):\n",
    "            filepath = os.path.join('raw_data/kana_colourpreferencequalia-master/data', filename)\n",
    "\n",
    "            # This is another participant\n",
    "            pFiles.append(filename)\n",
    "            pCounter = pCounter + 1\n",
    "            \n",
    "            # Load the CSV file\n",
    "            df = pd.read_csv(filepath)\n",
    "\n",
    "            # Filter for rows where 'response_type' is 'similarity' or 'preference'\n",
    "            df_similarity = df[df['response_type'] == response_type]\n",
    "\n",
    "            # Extract columns\n",
    "            colour1 = df_similarity['colour1']\n",
    "            colour2 = df_similarity['colour2']\n",
    "            target_preference = df_similarity[target_data]\n",
    "\n",
    "            # Create and fill the matrix\n",
    "            # NOTE double pass trials will overwrite the first trials (is this what we want?)\n",
    "            colour_index = getUniqueColours()\n",
    "            matrix_size = len(colour_index)\n",
    "            matrix = np.zeros((matrix_size, matrix_size))\n",
    "            for c1, c2, tp in zip(colour1, colour2, target_preference):\n",
    "                I = colour_index[c1]\n",
    "                j = colour_index[c2]\n",
    "                matrix[j, I] = tp\n",
    "\n",
    "            # Store the matrix\n",
    "            pMatrices.append(matrix)\n",
    "\n",
    "    pIds = range(0, pCounter)\n",
    "\n",
    "    return pMatrices, pIds, pFiles"
   ]
  },
  {
   "cell_type": "markdown",
   "metadata": {},
   "source": [
    "# Show data"
   ]
  },
  {
   "cell_type": "code",
   "execution_count": null,
   "metadata": {},
   "outputs": [],
   "source": [
    "# Get data\n",
    "pMatrices, pIds, pFiles = getDataColourMatrix(data_dir, data_column, response_type)\n",
    "\n",
    "if data_column == 'responseTime':\n",
    "    cLabel = 'response time (s)'\n",
    "else:\n",
    "    cLabel = response_type\n",
    "\n",
    "# Show matrices\n",
    "utilityFunctions.show_heatmaps(0, 7, matrices=pMatrices, titles=[\"subject\" + str(p) for p in pIds], cbar_label= cLabel, color_labels=unique_colours)\n",
    "\n",
    "for f in range(0, len(pFiles)):\n",
    "    print(\"subject\" + str(f) + ' ' + pFiles[f])\n"
   ]
  },
  {
   "cell_type": "code",
   "execution_count": null,
   "metadata": {},
   "outputs": [],
   "source": [
    "pCorrs = []\n",
    "\n",
    "folder_path = 'raw_data/kana_colourpreferencequalia-master/data'\n",
    "\n",
    "for filename in os.listdir(folder_path):\n",
    "    if filename.endswith(\".csv\"):\n",
    "        filepath = os.path.join(folder_path, filename)\n",
    "        \n",
    "        df = pd.read_csv(filepath, usecols=['response_type', 'response', 'colour1', 'colour2', 'trials.thisIndex', 'practice_trial'])\n",
    "\n",
    "        # Omit practice trials\n",
    "        df = df[df['practice_trial'] != 1]  \n",
    "\n",
    "        df_similarity = df[df['response_type'] == 'similarity']\n",
    "\n",
    "        # Group by 'trials.thisIndex'\n",
    "        grouped = df_similarity.groupby('trials.thisIndex')['response'].apply(list).reset_index()\n",
    "\n",
    "        # Filter for pairs with exactly two trials\n",
    "        repeated_pairs = grouped[grouped['response'].apply(len) == 2]\n",
    "\n",
    "        # Check if there are any repeated pairs\n",
    "        if len(repeated_pairs) > 0:\n",
    "            # Flatten the responses for repeated pairs\n",
    "            responses_trial1 = np.array(repeated_pairs['response'].apply(lambda x: x[0]).tolist())\n",
    "            responses_trial2 = np.array(repeated_pairs['response'].apply(lambda x: x[1]).tolist())\n",
    "\n",
    "            # Calculate overall correlation for repeated color pairs\n",
    "            overall_correlation = pearsonr(responses_trial1, responses_trial2)[0]\n",
    "\n",
    "            pCorrs.append(overall_correlation)\n",
    "\n",
    "            print(f\"Overall Pearson Correlation for {filename}: {overall_correlation}\")\n",
    "        else:\n",
    "            print(f\"No repeated pairs found in {filename}\")\n",
    "    \n",
    "    plt.hist(pCorrs, color='blue')\n",
    "    plt.xlabel(\"r\")\n",
    "    plt.ylabel(\"N\")\n",
    "    plt.title('double pass - similarity')"
   ]
  }
 ],
 "metadata": {
  "kernelspec": {
   "display_name": "colorpreferencequalia",
   "language": "python",
   "name": "python3"
  },
  "language_info": {
   "codemirror_mode": {
    "name": "ipython",
    "version": 3
   },
   "file_extension": ".py",
   "mimetype": "text/x-python",
   "name": "python",
   "nbconvert_exporter": "python",
   "pygments_lexer": "ipython3",
   "version": "3.12.2"
  }
 },
 "nbformat": 4,
 "nbformat_minor": 2
}
